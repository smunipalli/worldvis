{
 "cells": [
  {
   "cell_type": "code",
   "execution_count": 4,
   "metadata": {},
   "outputs": [
    {
     "name": "stdout",
     "output_type": "stream",
     "text": [
      "Collecting world-bank-data\n",
      "  Downloading world_bank_data-0.1.3.tar.gz (12 kB)\n",
      "Requirement already satisfied: pandas in /home/ubuntu/.conda/envs/dse/lib/python3.7/site-packages (from world-bank-data) (1.1.2)\n",
      "Requirement already satisfied: requests in /home/ubuntu/.conda/envs/dse/lib/python3.7/site-packages (from world-bank-data) (2.24.0)\n",
      "Collecting cachetools\n",
      "  Downloading cachetools-5.3.0-py3-none-any.whl (9.3 kB)\n",
      "Requirement already satisfied: python-dateutil>=2.7.3 in /home/ubuntu/.conda/envs/dse/lib/python3.7/site-packages (from pandas->world-bank-data) (2.8.1)\n",
      "Requirement already satisfied: numpy>=1.15.4 in /home/ubuntu/.conda/envs/dse/lib/python3.7/site-packages (from pandas->world-bank-data) (1.19.2)\n",
      "Requirement already satisfied: pytz>=2017.2 in /home/ubuntu/.conda/envs/dse/lib/python3.7/site-packages (from pandas->world-bank-data) (2020.1)\n",
      "Requirement already satisfied: urllib3!=1.25.0,!=1.25.1,<1.26,>=1.21.1 in /home/ubuntu/.conda/envs/dse/lib/python3.7/site-packages (from requests->world-bank-data) (1.25.10)\n",
      "Requirement already satisfied: idna<3,>=2.5 in /home/ubuntu/.conda/envs/dse/lib/python3.7/site-packages (from requests->world-bank-data) (2.10)\n",
      "Requirement already satisfied: certifi>=2017.4.17 in /home/ubuntu/.conda/envs/dse/lib/python3.7/site-packages (from requests->world-bank-data) (2020.6.20)\n",
      "Requirement already satisfied: chardet<4,>=3.0.2 in /home/ubuntu/.conda/envs/dse/lib/python3.7/site-packages (from requests->world-bank-data) (3.0.4)\n",
      "Requirement already satisfied: six>=1.5 in /home/ubuntu/.conda/envs/dse/lib/python3.7/site-packages (from python-dateutil>=2.7.3->pandas->world-bank-data) (1.15.0)\n",
      "Building wheels for collected packages: world-bank-data\n",
      "  Building wheel for world-bank-data (setup.py) ... \u001b[?25ldone\n",
      "\u001b[?25h  Created wheel for world-bank-data: filename=world_bank_data-0.1.3-py3-none-any.whl size=11095 sha256=a2ef8c5db6ded094e7c005bad313674d102f0e65bb17ff37f0af0c9f7a5f569a\n",
      "  Stored in directory: /home/ubuntu/.cache/pip/wheels/95/74/5e/c32dde16dc1ef8d8e9cf134ac93ae723ffec4f60be9c4873f5\n",
      "Successfully built world-bank-data\n",
      "Installing collected packages: cachetools, world-bank-data\n",
      "Successfully installed cachetools-5.3.0 world-bank-data-0.1.3\n",
      "Collecting wbgapi\n",
      "  Downloading wbgapi-1.0.12-py3-none-any.whl (36 kB)\n",
      "Collecting PyYAML\n",
      "  Downloading PyYAML-6.0-cp37-cp37m-manylinux_2_5_x86_64.manylinux1_x86_64.manylinux_2_12_x86_64.manylinux2010_x86_64.whl (596 kB)\n",
      "\u001b[K     |████████████████████████████████| 596 kB 4.4 MB/s eta 0:00:01\n",
      "\u001b[?25hCollecting tabulate\n",
      "  Downloading tabulate-0.9.0-py3-none-any.whl (35 kB)\n",
      "Requirement already satisfied: requests in /home/ubuntu/.conda/envs/dse/lib/python3.7/site-packages (from wbgapi) (2.24.0)\n",
      "Requirement already satisfied: certifi>=2017.4.17 in /home/ubuntu/.conda/envs/dse/lib/python3.7/site-packages (from requests->wbgapi) (2020.6.20)\n",
      "Requirement already satisfied: idna<3,>=2.5 in /home/ubuntu/.conda/envs/dse/lib/python3.7/site-packages (from requests->wbgapi) (2.10)\n",
      "Requirement already satisfied: chardet<4,>=3.0.2 in /home/ubuntu/.conda/envs/dse/lib/python3.7/site-packages (from requests->wbgapi) (3.0.4)\n",
      "Requirement already satisfied: urllib3!=1.25.0,!=1.25.1,<1.26,>=1.21.1 in /home/ubuntu/.conda/envs/dse/lib/python3.7/site-packages (from requests->wbgapi) (1.25.10)\n",
      "Installing collected packages: PyYAML, tabulate, wbgapi\n",
      "Successfully installed PyYAML-6.0 tabulate-0.9.0 wbgapi-1.0.12\n"
     ]
    }
   ],
   "source": [
    "# !pip install world-bank-data\n",
    "# !pip install wbgapi"
   ]
  },
  {
   "cell_type": "code",
   "execution_count": 14,
   "metadata": {},
   "outputs": [],
   "source": [
    "import pandas as pd\n",
    "import wbgapi as wb\n",
    "import json"
   ]
  },
  {
   "cell_type": "code",
   "execution_count": 7,
   "metadata": {},
   "outputs": [],
   "source": [
    "df_economy = wb.economy.info()"
   ]
  },
  {
   "cell_type": "code",
   "execution_count": 11,
   "metadata": {},
   "outputs": [
    {
     "data": {
      "text/plain": [
       "['__class__',\n",
       " '__delattr__',\n",
       " '__dict__',\n",
       " '__dir__',\n",
       " '__doc__',\n",
       " '__eq__',\n",
       " '__format__',\n",
       " '__ge__',\n",
       " '__getattribute__',\n",
       " '__gt__',\n",
       " '__hash__',\n",
       " '__init__',\n",
       " '__init_subclass__',\n",
       " '__le__',\n",
       " '__lt__',\n",
       " '__module__',\n",
       " '__ne__',\n",
       " '__new__',\n",
       " '__reduce__',\n",
       " '__reduce_ex__',\n",
       " '__repr__',\n",
       " '__setattr__',\n",
       " '__sizeof__',\n",
       " '__str__',\n",
       " '__subclasshook__',\n",
       " '__weakref__',\n",
       " '_repr_html_',\n",
       " 'columns',\n",
       " 'items',\n",
       " 'table']"
      ]
     },
     "execution_count": 11,
     "metadata": {},
     "output_type": "execute_result"
    }
   ],
   "source": [
    "dir(df_economy)"
   ]
  },
  {
   "cell_type": "code",
   "execution_count": 18,
   "metadata": {},
   "outputs": [],
   "source": [
    "with open(\"income_level.json\", \"w\") as outfile:\n",
    "    json.dump(df_economy.__dict__['items'], outfile)"
   ]
  },
  {
   "cell_type": "code",
   "execution_count": null,
   "metadata": {},
   "outputs": [],
   "source": []
  }
 ],
 "metadata": {
  "kernelspec": {
   "display_name": "Python 3",
   "language": "python",
   "name": "python3"
  },
  "language_info": {
   "codemirror_mode": {
    "name": "ipython",
    "version": 3
   },
   "file_extension": ".py",
   "mimetype": "text/x-python",
   "name": "python",
   "nbconvert_exporter": "python",
   "pygments_lexer": "ipython3",
   "version": "3.7.3"
  }
 },
 "nbformat": 4,
 "nbformat_minor": 4
}
